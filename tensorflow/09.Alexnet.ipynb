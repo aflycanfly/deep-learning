{
 "cells": [
  {
   "cell_type": "code",
   "execution_count": null,
   "metadata": {},
   "outputs": [],
   "source": [
    "import tensorflow as tf\n",
    "import matplotlib.pyplot as plt\n",
    "import seaborn as sns\n",
    "import numpy as np"
   ]
  },
  {
   "cell_type": "markdown",
   "metadata": {},
   "source": [
    "# 模型构建"
   ]
  },
  {
   "cell_type": "code",
   "execution_count": null,
   "metadata": {},
   "outputs": [],
   "source": [
    "net = tf.keras.models.Sequential([\n",
    "    # 卷积层：96 11*11 4 relu\n",
    "    tf.keras.layers.Conv2D(filters=96, kernel_size=11,\n",
    "                           strides=4, activation=\"relu\"),\n",
    "    # 池化：3*3 2\n",
    "    tf.keras.layers.MaxPool2D(pool_size=3, strides=2),\n",
    "    # 卷积：256 5*5 1 RELU same\n",
    "    tf.keras.layers.Conv2D(filters=256, kernel_size=5,\n",
    "                           padding=\"same\", activation=\"relu\"),\n",
    "    # 池化： 3*3 2\n",
    "    tf.keras.layers.MaxPool2D(pool_size=3, strides=2),\n",
    "    # 卷积：384 3*3 1 RELU same\n",
    "    tf.keras.layers.Conv2D(filters=384, kernel_size=3, padding=\"same\", activation=\"relu\"),\n",
    "    # 卷积：384 3*3 1 RELU same\n",
    "    tf.keras.layers.Conv2D(filters=384, kernel_size=3, padding=\"same\", activation=\"relu\"),\n",
    "    # 卷积：256 3*3 1 RELU same\n",
    "    tf.keras.layers.Conv2D(filters=256, kernel_size=3, padding=\"same\", activation=\"relu\"),\n",
    "    # 池化：3*3 2\n",
    "    tf.keras.layers.MaxPool2D(pool_size=3, strides=2),\n",
    "    # 展开\n",
    "    tf.keras.layers.Flatten(),\n",
    "    # 全连接层：4096 relu\n",
    "    tf.keras.layers.Dense(4096, activation=\"relu\"),\n",
    "    # 随机失活\n",
    "    tf.keras.layers.Dropout(0.5),\n",
    "    # 全连接层：4096 relu\n",
    "    tf.keras.layers.Dense(4096, activation=\"relu\"),\n",
    "    # 随机失活\n",
    "    tf.keras.layers.Dropout(0.5),\n",
    "    # 输出层：\n",
    "    tf.keras.layers.Dense(10, activation=\"softmax\")\n",
    "\n",
    "])"
   ]
  },
  {
   "cell_type": "code",
   "execution_count": null,
   "metadata": {},
   "outputs": [],
   "source": [
    "X = tf.random.uniform((1,227,227,1))\n",
    "y = net(X)\n",
    "net.summary()"
   ]
  },
  {
   "cell_type": "markdown",
   "metadata": {},
   "source": [
    "# 数据读取"
   ]
  },
  {
   "cell_type": "code",
   "execution_count": null,
   "metadata": {},
   "outputs": [],
   "source": [
    "from tensorflow.keras.datasets import mnist\n",
    "import numpy as np"
   ]
  },
  {
   "cell_type": "code",
   "execution_count": null,
   "metadata": {},
   "outputs": [],
   "source": [
    "(train_images,train_label),(test_images,test_labels)=mnist.load_data()"
   ]
  },
  {
   "cell_type": "code",
   "execution_count": null,
   "metadata": {},
   "outputs": [],
   "source": [
    "# 维度调整\n",
    "train_images = np.reshape(train_images,(train_images.shape[0],train_images.shape[1],train_images.shape[2],1))\n",
    "test_images = np.reshape(test_images,(test_images.shape[0],test_images.shape[1],test_images.shape[2],1))"
   ]
  },
  {
   "cell_type": "code",
   "execution_count": null,
   "metadata": {},
   "outputs": [],
   "source": [
    "# 对训练数据进行抽样\n",
    "def get_train(size):\n",
    "    # 随机生成index\n",
    "    index = np.random.randint(0,train_images.shape[0],size)\n",
    "    # 选择图像并进行resize\n",
    "    resized_image = tf.image.resize_with_pad(train_images[index],227,227)\n",
    "    return resized_image.numpy(),train_label[index]"
   ]
  },
  {
   "cell_type": "code",
   "execution_count": null,
   "metadata": {},
   "outputs": [],
   "source": [
    "# 对测试数据进行抽样\n",
    "def get_test(size):\n",
    "    # 随机生成index\n",
    "    index = np.random.randint(0,test_images.shape[0],size)\n",
    "    # 选择图像并进行resize\n",
    "    resized_image = tf.image.resize_with_pad(test_images[index],227,227)\n",
    "    return resized_image.numpy(),test_labels[index]"
   ]
  },
  {
   "cell_type": "code",
   "execution_count": null,
   "metadata": {},
   "outputs": [],
   "source": [
    "# 抽样结果\n",
    "train_images,train_label = get_train(10000)\n",
    "test_images,test_labels = get_test(128)"
   ]
  },
  {
   "cell_type": "code",
   "execution_count": 16,
   "metadata": {},
   "outputs": [],
   "source": [
    "import matplotlib.pyplot as plt"
   ]
  },
  {
   "cell_type": "code",
   "execution_count": 24,
   "metadata": {},
   "outputs": [
    {
     "data": {
      "image/png": "[encoded data removed]",
      "text/plain": [
       "<Figure size 432x288 with 9 Axes>"
      ]
     },
     "metadata": {
      "needs_background": "light"
     },
     "output_type": "display_data"
    }
   ],
   "source": [
    "plt.rcParams['font.sans-serif']=['Simhei']\n",
    "# 数据展示：将数据集的前九个数据集进行展示\n",
    "for i in range(9):\n",
    "    #指一个3行3列的图中从左到右从上到下的第i个位置\n",
    "    plt.subplot(3,3,i+1)\n",
    "    # 以灰度图显示，不进行插值\n",
    "    plt.imshow(train_images[i].astype(np.int8).squeeze(), cmap='gray', interpolation='none')\n",
    "    # 设置图片的标题：对应的类别\n",
    "    plt.title(\"数字{}\".format(train_label[i]))"
   ]
  },
  {
   "cell_type": "markdown",
   "metadata": {},
   "source": [
    "# 模型编译"
   ]
  },
  {
   "cell_type": "code",
   "execution_count": 129,
   "metadata": {},
   "outputs": [],
   "source": [
    "# 优化器,损失函数,评价指标\n",
    "net.compile(optimizer=tf.keras.optimizers.SGD(learning_rate=0.01),loss=tf.keras.losses.sparse_categorical_crossentropy\n",
    "           ,metrics=['accuracy'])"
   ]
  },
  {
   "cell_type": "markdown",
   "metadata": {},
   "source": [
    "# 模型训练"
   ]
  },
  {
   "cell_type": "code",
   "execution_count": 130,
   "metadata": {},
   "outputs": [
    {
     "name": "stdout",
     "output_type": "stream",
     "text": [
      "Epoch 1/3\n",
      "71/71 [==============================] - 225s 3s/step - loss: nan - accuracy: 0.0913 - val_loss: nan - val_accuracy: 0.0780\n",
      "Epoch 2/3\n",
      "71/71 [==============================] - 236s 3s/step - loss: nan - accuracy: 0.0913 - val_loss: nan - val_accuracy: 0.0780\n",
      "Epoch 3/3\n",
      "71/71 [==============================] - 246s 3s/step - loss: nan - accuracy: 0.0913 - val_loss: nan - val_accuracy: 0.0780\n"
     ]
    },
    {
     "data": {
      "text/plain": [
       "<tensorflow.python.keras.callbacks.History at 0x25524f88eb0>"
      ]
     },
     "execution_count": 130,
     "metadata": {},
     "output_type": "execute_result"
    }
   ],
   "source": [
    "net.fit(train_images,train_label,batch_size=128,epochs=3,validation_split=0.1,verbose=1)"
   ]
  },
  {
   "cell_type": "markdown",
   "metadata": {},
   "source": [
    "# 模型评估"
   ]
  },
  {
   "cell_type": "code",
   "execution_count": 131,
   "metadata": {},
   "outputs": [
    {
     "name": "stdout",
     "output_type": "stream",
     "text": [
      "4/4 [==============================] - 1s 151ms/step - loss: nan - accuracy: 0.1172\n"
     ]
    },
    {
     "data": {
      "text/plain": [
       "[nan, 0.1171875]"
      ]
     },
     "execution_count": 131,
     "metadata": {},
     "output_type": "execute_result"
    }
   ],
   "source": [
    "net.evaluate(test_images,test_labels,verbose=1)"
   ]
  },
  {
   "cell_type": "code",
   "execution_count": null,
   "metadata": {},
   "outputs": [],
   "source": []
  }
 ],
 "metadata": {
  "kernelspec": {
   "display_name": "Python 3",
   "language": "python",
   "name": "python3"
  },
  "language_info": {
   "codemirror_mode": {
    "name": "ipython",
    "version": 3
   },
   "file_extension": ".py",
   "mimetype": "text/x-python",
   "name": "python",
   "nbconvert_exporter": "python",
   "pygments_lexer": "ipython3",
   "version": "3.8.8"
  },
  "toc": {
   "base_numbering": 1,
   "nav_menu": {},
   "number_sections": true,
   "sideBar": true,
   "skip_h1_title": false,
   "title_cell": "Table of Contents",
   "title_sidebar": "Contents",
   "toc_cell": false,
   "toc_position": {},
   "toc_section_display": true,
   "toc_window_display": false
  }
 },
 "nbformat": 4,
 "nbformat_minor": 4
}
