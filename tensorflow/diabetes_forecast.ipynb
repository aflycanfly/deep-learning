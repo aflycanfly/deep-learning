{
 "cells": [
  {
   "cell_type": "code",
   "execution_count": 168,
   "id": "b2377b85",
   "metadata": {},
   "outputs": [],
   "source": [
    "import pandas as pd\n",
    "from sklearn.model_selection import train_test_split"
   ]
  },
  {
   "cell_type": "code",
   "execution_count": 169,
   "id": "f479ae38",
   "metadata": {},
   "outputs": [],
   "source": [
    "# 1获取数据\n",
    "\n",
    "diabetes = pd.read_csv(\"../machine-learning/resource/diabetes/diabetes.csv\")\n",
    "x =  diabetes.iloc[:, 1:]\n",
    "y =  diabetes[\"Diabetes_012\"]"
   ]
  },
  {
   "cell_type": "code",
   "execution_count": 170,
   "id": "d44fdb31",
   "metadata": {},
   "outputs": [],
   "source": [
    "from sklearn.decomposition import PCA\n",
    "# PCA降维\n",
    "transform = PCA(n_components=0.8)\n",
    "x = transform.fit_transform(x)"
   ]
  },
  {
   "cell_type": "code",
   "execution_count": 171,
   "id": "0945a8cb",
   "metadata": {},
   "outputs": [],
   "source": [
    "# 2 划分数据集\n",
    "x_train, x_test, y_train, y_test = train_test_split(x, y,test_size=0.2)"
   ]
  },
  {
   "cell_type": "code",
   "execution_count": 172,
   "id": "05390e5e",
   "metadata": {},
   "outputs": [],
   "source": [
    "#  3 特征工程  标准化\n",
    "from sklearn.preprocessing import StandardScaler\n",
    "transfer = StandardScaler()\n",
    "x_train = transfer.fit_transform(x_train)\n",
    "x_test = transfer.transform(x_test)"
   ]
  },
  {
   "cell_type": "code",
   "execution_count": 173,
   "id": "13eb8151",
   "metadata": {
    "scrolled": true
   },
   "outputs": [
    {
     "name": "stdout",
     "output_type": "stream",
     "text": [
      "y_predict:\n",
      " [0. 0. 0. ... 0. 0. 0.]\n",
      "直接对比真实值和预测值:\n",
      " 138553     True\n",
      "16907     False\n",
      "128486    False\n",
      "169565     True\n",
      "200660     True\n",
      "          ...  \n",
      "204481     True\n",
      "191711     True\n",
      "69933      True\n",
      "75497      True\n",
      "75062      True\n",
      "Name: Diabetes_012, Length: 50736, dtype: bool\n",
      "准确率为:\n",
      " 0.8418874172185431\n"
     ]
    }
   ],
   "source": [
    "from sklearn.tree import DecisionTreeClassifier,export_graphviz\n",
    "# 4.决策树预估器\n",
    "estimator = DecisionTreeClassifier(criterion=\"entropy\",max_depth=5)\n",
    "estimator.fit(x_train,y_train)\n",
    "# 5.模型评估\n",
    "y_predict = estimator.predict(x_test)\n",
    "print(\"y_predict:\\n\", y_predict)\n",
    "print(\"直接对比真实值和预测值:\\n\", y_predict == y_test)\n",
    "# 计算准确率\n",
    "score = estimator.score(x_test, y_test)\n",
    "print(\"准确率为:\\n\", score)"
   ]
  },
  {
   "cell_type": "code",
   "execution_count": 174,
   "id": "ff93b3c0",
   "metadata": {},
   "outputs": [
    {
     "name": "stdout",
     "output_type": "stream",
     "text": [
      "y_predict:\n",
      " [0. 2. 0. ... 0. 0. 0.]\n",
      "直接对比真实值和预测值:\n",
      " 138553     True\n",
      "16907      True\n",
      "128486    False\n",
      "169565     True\n",
      "200660     True\n",
      "          ...  \n",
      "204481     True\n",
      "191711     True\n",
      "69933      True\n",
      "75497      True\n",
      "75062      True\n",
      "Name: Diabetes_012, Length: 50736, dtype: bool\n",
      "准确率为:\n",
      " 0.8338260801009145\n"
     ]
    }
   ],
   "source": [
    "from sklearn.neighbors import KNeighborsClassifier\n",
    "# 4.KNN算法预估器 p=1曼哈顿距离 p=2欧氏距离 默认欧氏距离\n",
    "estimator = KNeighborsClassifier()\n",
    "\n",
    "# 加入网格搜索和交叉验证\n",
    "# 参数准备\n",
    "params_dict = {\"n_neighbors\":[5,7,9]}\n",
    "# estimator:估计器对象 param_grid：估计器参数(dict){\"n_neighbors\":[1,9,11]} cv:指定几折交叉验证 fit():输入训练集数据 score()准确率\n",
    "estimator = GridSearchCV(estimator, param_grid=params_dict, cv=3)\n",
    "estimator.fit(x_train, y_train)\n",
    "# 5.模型评估\n",
    "y_predict = estimator.predict(x_test)\n",
    "print(\"y_predict:\\n\", y_predict)\n",
    "print(\"直接对比真实值和预测值:\\n\", y_predict == y_test)\n",
    "# 计算准确率\n",
    "score = estimator.score(x_test, y_test)\n",
    "print(\"准确率为:\\n\", score)"
   ]
  },
  {
   "cell_type": "code",
   "execution_count": 175,
   "id": "9842b53e",
   "metadata": {},
   "outputs": [
    {
     "name": "stdout",
     "output_type": "stream",
     "text": [
      "随机森林预测的准确率为： 0.8420648060548723\n"
     ]
    }
   ],
   "source": [
    "from  sklearn.ensemble import RandomForestClassifier\n",
    "# 随机森林去进行预测\n",
    "rf = RandomForestClassifier()\n",
    "\n",
    "param = {\"n_estimators\": [120,200,300,500,800,1200], \"max_depth\": [5, 8, 15, 25, 30]}\n",
    "\n",
    "# 超参数调优\n",
    "gc = GridSearchCV(rf, param_grid=param, cv=2)\n",
    "\n",
    "gc.fit(x_train, y_train)\n",
    "\n",
    "print(\"随机森林预测的准确率为：\", gc.score(x_test, y_test))"
   ]
  },
  {
   "cell_type": "code",
   "execution_count": null,
   "id": "838e8140",
   "metadata": {},
   "outputs": [],
   "source": []
  },
  {
   "cell_type": "code",
   "execution_count": null,
   "id": "22537fce",
   "metadata": {},
   "outputs": [],
   "source": []
  }
 ],
 "metadata": {
  "kernelspec": {
   "display_name": "Python 3",
   "language": "python",
   "name": "python3"
  },
  "language_info": {
   "codemirror_mode": {
    "name": "ipython",
    "version": 3
   },
   "file_extension": ".py",
   "mimetype": "text/x-python",
   "name": "python",
   "nbconvert_exporter": "python",
   "pygments_lexer": "ipython3",
   "version": "3.8.8"
  },
  "toc": {
   "base_numbering": 1,
   "nav_menu": {},
   "number_sections": true,
   "sideBar": true,
   "skip_h1_title": false,
   "title_cell": "Table of Contents",
   "title_sidebar": "Contents",
   "toc_cell": false,
   "toc_position": {},
   "toc_section_display": true,
   "toc_window_display": false
  }
 },
 "nbformat": 4,
 "nbformat_minor": 5
}
