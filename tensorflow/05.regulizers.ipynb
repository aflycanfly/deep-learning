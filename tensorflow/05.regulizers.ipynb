{
 "cells": [
  {
   "cell_type": "markdown",
   "metadata": {},
   "source": [
    "# dropout"
   ]
  },
  {
   "cell_type": "code",
   "execution_count": 1,
   "metadata": {},
   "outputs": [],
   "source": [
    "# 导入工具包\n",
    "import tensorflow as tf\n",
    "import numpy as np"
   ]
  },
  {
   "cell_type": "code",
   "execution_count": 2,
   "metadata": {},
   "outputs": [
    {
     "name": "stdout",
     "output_type": "stream",
     "text": [
      "[[ 1.  2.]\n",
      " [ 3.  4.]\n",
      " [ 5.  6.]\n",
      " [ 7.  8.]\n",
      " [ 9. 10.]]\n",
      "tf.Tensor(\n",
      "[[ 1.  2.]\n",
      " [ 3.  4.]\n",
      " [ 5.  6.]\n",
      " [ 7.  8.]\n",
      " [ 9. 10.]], shape=(5, 2), dtype=float32)\n"
     ]
    }
   ],
   "source": [
    "# 定义dropout层\n",
    "layer = tf.keras.layers.Dropout(0,input_shape=(2,))\n",
    "# 定义输入数据\n",
    "data = np.arange(1,11).reshape(5,2).astype(np.float32)\n",
    "print(data)\n",
    "# 对输入数据进行随机失活\n",
    "outputs = layer(data,training=True)\n",
    "print(outputs)"
   ]
  },
  {
   "cell_type": "markdown",
   "metadata": {},
   "source": [
    "# 提前停止"
   ]
  },
  {
   "cell_type": "code",
   "execution_count": null,
   "metadata": {},
   "outputs": [],
   "source": []
  },
  {
   "cell_type": "code",
   "execution_count": 3,
   "metadata": {},
   "outputs": [
    {
     "name": "stdout",
     "output_type": "stream",
     "text": [
      "Epoch 1/10\n",
      "5/5 [==============================] - 0s 599us/step - loss: 149574280487632896.0000\n",
      "Epoch 2/10\n",
      "5/5 [==============================] - 0s 999us/step - loss: 6460094154657712347589775080816640.0000\n",
      "Epoch 3/10\n",
      "5/5 [==============================] - 0s 596us/step - loss: inf\n",
      "Epoch 4/10\n",
      "5/5 [==============================] - 0s 800us/step - loss: inf\n"
     ]
    },
    {
     "data": {
      "text/plain": [
       "4"
      ]
     },
     "execution_count": 3,
     "metadata": {},
     "output_type": "execute_result"
    }
   ],
   "source": [
    "# 定义回调函数\n",
    "callback = tf.keras.callbacks.EarlyStopping(monitor=\"loss\",patience=3)\n",
    "# 定义一层的网络\n",
    "model = tf.keras.models.Sequential([tf.keras.layers.Dense(10)])\n",
    "# 模型编译\n",
    "model.compile(tf.keras.optimizers.SGD(),loss='mse')\n",
    "# 模型训练\n",
    "history = model.fit(np.arange(100).reshape(5,20),np.array([0,1,0,1,0]),callbacks=[callback],epochs=10,batch_size=1,verbose=1)\n",
    "len(history.history['loss'])"
   ]
  },
  {
   "cell_type": "code",
   "execution_count": null,
   "metadata": {},
   "outputs": [],
   "source": []
  }
 ],
 "metadata": {
  "kernelspec": {
   "display_name": "Python 3",
   "language": "python",
   "name": "python3"
  },
  "language_info": {
   "codemirror_mode": {
    "name": "ipython",
    "version": 3
   },
   "file_extension": ".py",
   "mimetype": "text/x-python",
   "name": "python",
   "nbconvert_exporter": "python",
   "pygments_lexer": "ipython3",
   "version": "3.8.8"
  },
  "toc": {
   "base_numbering": 1,
   "nav_menu": {},
   "number_sections": true,
   "sideBar": true,
   "skip_h1_title": false,
   "title_cell": "Table of Contents",
   "title_sidebar": "Contents",
   "toc_cell": false,
   "toc_position": {},
   "toc_section_display": true,
   "toc_window_display": false
  }
 },
 "nbformat": 4,
 "nbformat_minor": 4
}
